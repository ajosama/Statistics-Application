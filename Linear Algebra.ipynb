{
 "cells": [
  {
   "cell_type": "code",
   "execution_count": 1,
   "id": "3e5d0368-cca2-48b1-9ad2-210876c3fa62",
   "metadata": {},
   "outputs": [],
   "source": [
    "# Python code for dot product\n",
    "def dot_product(x,y):\n",
    "    return sum(i*j for i,j in zip(x,y,strict=True))"
   ]
  },
  {
   "cell_type": "code",
   "execution_count": 2,
   "id": "912b83bc-ea42-4457-ac24-e821ca8e5d10",
   "metadata": {},
   "outputs": [
    {
     "data": {
      "text/plain": [
       "36"
      ]
     },
     "execution_count": 2,
     "metadata": {},
     "output_type": "execute_result"
    }
   ],
   "source": [
    "dot_product([3,2,6],[6,3,2])"
   ]
  },
  {
   "cell_type": "code",
   "execution_count": 9,
   "id": "9b73df1f-23e4-495c-8cdb-d0b8ee2c60c7",
   "metadata": {},
   "outputs": [],
   "source": [
    "import math\n",
    "dot_product1 = 0\n",
    "def norm_vector(v):\n",
    "    dot_product1 = sum(i * i for i in v)\n",
    "    return math.sqrt(dot_product1)"
   ]
  },
  {
   "cell_type": "code",
   "execution_count": 10,
   "id": "b8b59ffe-0099-4f17-aba7-bb7276c26713",
   "metadata": {},
   "outputs": [
    {
     "data": {
      "text/plain": [
       "6.164414002968976"
      ]
     },
     "execution_count": 10,
     "metadata": {},
     "output_type": "execute_result"
    }
   ],
   "source": [
    "norm_vector([2,5,-3])"
   ]
  },
  {
   "cell_type": "markdown",
   "id": "5c81f5a5-f76d-450a-a85c-9d99d314d8fd",
   "metadata": {},
   "source": [
    "# Matrix"
   ]
  },
  {
   "cell_type": "code",
   "execution_count": 24,
   "id": "e879fcd8-71ae-4c3d-8867-a39b764c4f04",
   "metadata": {},
   "outputs": [],
   "source": [
    "import numpy as np\n",
    "def matrix_addition(x,y):\n",
    "    xrows = len(x)\n",
    "    xcols = len(x[0])\n",
    "    yrows = len(y)\n",
    "    ycols = len(y[0])\n",
    "    if xrows != yrows or xcols != ycols:\n",
    "        print(\"Sum is not defined as the matrices have different orders\")\n",
    "    else:\n",
    "        z = x\n",
    "        for i in range(xrows):\n",
    "            for j in range(xcols):\n",
    "                z[i][j] = z[i][j] + y[i][j]\n",
    "    return z"
   ]
  },
  {
   "cell_type": "code",
   "execution_count": 25,
   "id": "482eaaf7-e145-44aa-ac3b-abbed327b4f2",
   "metadata": {},
   "outputs": [
    {
     "data": {
      "text/plain": [
       "array([[ 5,  1, 14],\n",
       "       [ 3, -4,  7],\n",
       "       [-6,  2, -1]])"
      ]
     },
     "execution_count": 25,
     "metadata": {},
     "output_type": "execute_result"
    }
   ],
   "source": [
    "x = np.array([[2,-1,5],[10,3,1],[-7,0,3]])\n",
    "y = np.array([[3,2,9],[-7,-7,6],[1,2,-4]])\n",
    "matrix_addition(x,y)"
   ]
  },
  {
   "cell_type": "code",
   "execution_count": 27,
   "id": "f36ff297-4805-42d9-826b-0e67a1015073",
   "metadata": {},
   "outputs": [],
   "source": [
    "x = np.array([[2,-1,5],[10,3,1],[-7,0,3]])"
   ]
  },
  {
   "cell_type": "code",
   "execution_count": 28,
   "id": "67e8800e-bf2c-420c-992d-65652bf8df13",
   "metadata": {},
   "outputs": [
    {
     "data": {
      "text/plain": [
       "array([[  4,  -2,  10],\n",
       "       [ 20,   6,   2],\n",
       "       [-14,   0,   6]])"
      ]
     },
     "execution_count": 28,
     "metadata": {},
     "output_type": "execute_result"
    }
   ],
   "source": [
    "2*x"
   ]
  },
  {
   "cell_type": "code",
   "execution_count": 30,
   "id": "1c0acbf9-85c2-49d0-aa8d-9884b5899d5c",
   "metadata": {},
   "outputs": [],
   "source": [
    "# Scalar Multiplication\n",
    "def scalar_multi(c,x):\n",
    "    cx = x\n",
    "    for i in range(len(x)):\n",
    "        for j in range(len(x[0])):\n",
    "            cx[i][j] = c*cx[i][j]\n",
    "    return cx"
   ]
  },
  {
   "cell_type": "code",
   "execution_count": 32,
   "id": "bfdffdec-400f-45d9-9123-f269af468d8d",
   "metadata": {},
   "outputs": [
    {
     "data": {
      "text/plain": [
       "array([[ 0,  1],\n",
       "       [ 1, -1]])"
      ]
     },
     "execution_count": 32,
     "metadata": {},
     "output_type": "execute_result"
    }
   ],
   "source": [
    "scalar_multi(0.5,np.array([[-1,2],[2,-3]]))"
   ]
  },
  {
   "cell_type": "code",
   "execution_count": 34,
   "id": "081221d3-d625-4d00-ac8a-c9afb3389359",
   "metadata": {},
   "outputs": [],
   "source": [
    "# Subtraction of two matrices\n",
    "def matrix_subtraction(x,y):\n",
    "    xrows = len(x)\n",
    "    xcols = len(x[0])\n",
    "    yrows = len(y)\n",
    "    ycols = len(y[0])\n",
    "    if xrows != yrows or xcols != ycols:\n",
    "        print(\"Sum is not defined as the matrices have different orders\")\n",
    "    else:\n",
    "        z = x\n",
    "        for i in range(xrows):\n",
    "            for j in range(xcols):\n",
    "                z[i][j] = z[i][j] - y[i][j]\n",
    "    return z"
   ]
  },
  {
   "cell_type": "code",
   "execution_count": 35,
   "id": "8d391600-fcdd-4ffd-b91d-44e97e9841df",
   "metadata": {},
   "outputs": [],
   "source": [
    "a = np.array([[5,-9],[0,2],[0,4]])\n",
    "b = np.array([[3,0],[6,-5],[2,5]])"
   ]
  },
  {
   "cell_type": "code",
   "execution_count": 36,
   "id": "8a003b91-4945-4534-b992-628234c81bf5",
   "metadata": {},
   "outputs": [
    {
     "data": {
      "text/plain": [
       "array([[ 2, -9],\n",
       "       [-6,  7],\n",
       "       [-2, -1]])"
      ]
     },
     "execution_count": 36,
     "metadata": {},
     "output_type": "execute_result"
    }
   ],
   "source": [
    "matrix_subtraction(a,b)"
   ]
  },
  {
   "cell_type": "code",
   "execution_count": 56,
   "id": "760b8872-6fd1-41a4-b099-21536f5decd5",
   "metadata": {},
   "outputs": [],
   "source": [
    "# Multiplication of two matrices\n",
    "def matrix_multiplication(x,y):\n",
    "    xrows = len(x)\n",
    "    xcols = len(x[0])\n",
    "    yrows = len(y)\n",
    "    ycols = len(y[0])\n",
    "    if xcols != yrows:\n",
    "        print(\"Sum is not defined as the matrices have different orders\")\n",
    "    else:\n",
    "        z = [[0 for i in range(ycols)] for j in range(xrows)]\n",
    "        #print(z)\n",
    "        for i in range(xrows):\n",
    "            for j in range(ycols):\n",
    "                total = 0\n",
    "                for ii in range(xcols):\n",
    "                    total += x[i][ii] * y[ii][j]\n",
    "                z[i][j] = total\n",
    "    return z"
   ]
  },
  {
   "cell_type": "code",
   "execution_count": 57,
   "id": "8682b2ed-74c3-4bcb-ba09-ba150abfb2d4",
   "metadata": {},
   "outputs": [
    {
     "data": {
      "text/plain": [
       "[[-39, 45], [12, -10]]"
      ]
     },
     "execution_count": 57,
     "metadata": {},
     "output_type": "execute_result"
    }
   ],
   "source": [
    "a = np.array([[5,-9],[0,2]])\n",
    "b = np.array([[3,0],[6,-5]])\n",
    "matrix_multiplication(a,b)"
   ]
  },
  {
   "cell_type": "code",
   "execution_count": 49,
   "id": "b17c9a85-fb51-40f6-b9ba-539e72176127",
   "metadata": {},
   "outputs": [],
   "source": [
    "# Transpose of a Matrix\n",
    "def matrix_transpose(x):\n",
    "    xrows = len(x)\n",
    "    xcols = len(x[0])\n",
    "    z = [[0 for i in range(xrows)] for j in range(xcols)]\n",
    "    for i in range(xcols):\n",
    "        for j in range(xrows):\n",
    "            z[i][j] = x[j][i]\n",
    "    return z"
   ]
  },
  {
   "cell_type": "code",
   "execution_count": 50,
   "id": "07b72e3b-8b94-480f-bb7f-e83758c0b0fb",
   "metadata": {},
   "outputs": [
    {
     "data": {
      "text/plain": [
       "[[5, 0], [-9, 2]]"
      ]
     },
     "execution_count": 50,
     "metadata": {},
     "output_type": "execute_result"
    }
   ],
   "source": [
    "matrix_transpose(np.array([[5,-9],[0,2]]))"
   ]
  },
  {
   "cell_type": "code",
   "execution_count": null,
   "id": "5fc52242-8ff7-4303-88db-650d1e9783e2",
   "metadata": {},
   "outputs": [],
   "source": []
  }
 ],
 "metadata": {
  "kernelspec": {
   "display_name": "My Environment",
   "language": "python",
   "name": "myenv"
  },
  "language_info": {
   "codemirror_mode": {
    "name": "ipython",
    "version": 3
   },
   "file_extension": ".py",
   "mimetype": "text/x-python",
   "name": "python",
   "nbconvert_exporter": "python",
   "pygments_lexer": "ipython3",
   "version": "3.11.5"
  }
 },
 "nbformat": 4,
 "nbformat_minor": 5
}
