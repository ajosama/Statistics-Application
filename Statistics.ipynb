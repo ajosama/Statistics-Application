{
 "cells": [
  {
   "cell_type": "markdown",
   "id": "47295fb0-c08f-4645-970b-277a9110400a",
   "metadata": {},
   "source": [
    "# Mean"
   ]
  },
  {
   "cell_type": "code",
   "execution_count": 21,
   "id": "267ef144-ec17-4fae-be5d-4a1e1431b83b",
   "metadata": {},
   "outputs": [],
   "source": [
    "x = [40,63,25,19,38,74,25]\n",
    "Mean = sum(x)/len(x)"
   ]
  },
  {
   "cell_type": "code",
   "execution_count": 22,
   "id": "ba04c445-376f-422d-939f-d7e802b1cd9d",
   "metadata": {},
   "outputs": [
    {
     "data": {
      "text/plain": [
       "40.57142857142857"
      ]
     },
     "execution_count": 22,
     "metadata": {},
     "output_type": "execute_result"
    }
   ],
   "source": [
    "Mean"
   ]
  },
  {
   "cell_type": "markdown",
   "id": "f3d9331f-857c-4c1e-a68a-01c8ecdceced",
   "metadata": {},
   "source": [
    "# Median and Mode"
   ]
  },
  {
   "cell_type": "code",
   "execution_count": 23,
   "id": "b4720135-cfdd-4b0e-aa1d-df11c4061215",
   "metadata": {},
   "outputs": [],
   "source": [
    "n = len(x)\n",
    "x.sort()\n",
    "if n % 2 == 0:\n",
    "    middle1 = x[n//2]\n",
    "    middle2 = x[n//2 - 1]\n",
    "    median = (middle1 + middle2) / 2\n",
    "else:\n",
    "    median = x[n//2]"
   ]
  },
  {
   "cell_type": "code",
   "execution_count": 24,
   "id": "02baf7ce-583f-4aca-847f-4d76a3ec8906",
   "metadata": {},
   "outputs": [
    {
     "data": {
      "text/plain": [
       "38"
      ]
     },
     "execution_count": 24,
     "metadata": {},
     "output_type": "execute_result"
    }
   ],
   "source": [
    "median"
   ]
  },
  {
   "cell_type": "code",
   "execution_count": 34,
   "id": "dc801162-eb43-4dac-bd06-74a3307382d3",
   "metadata": {},
   "outputs": [],
   "source": [
    "x.sort()\n",
    "counting = []\n",
    "i = 0\n",
    "while i < len(x):\n",
    "    counting.append(x.count(x[i]))\n",
    "    i += 1\n",
    "    #print(x,counting)\n",
    "occurrences = dict(zip(x,counting))\n",
    "#print(occurrences.items())\n",
    "mode = {i for (i,j) in occurrences.items() if j == max(counting)}"
   ]
  },
  {
   "cell_type": "code",
   "execution_count": 39,
   "id": "33b84369-3673-4f76-b442-d7e60f3d20eb",
   "metadata": {},
   "outputs": [
    {
     "data": {
      "text/plain": [
       "{25}"
      ]
     },
     "execution_count": 39,
     "metadata": {},
     "output_type": "execute_result"
    }
   ],
   "source": [
    "mode"
   ]
  },
  {
   "cell_type": "markdown",
   "id": "087d7d9b-bd61-4e09-a3a0-5073dcc4dcce",
   "metadata": {},
   "source": [
    "# Standard Deviation"
   ]
  },
  {
   "cell_type": "code",
   "execution_count": 41,
   "id": "e1f1adcb-11ad-4036-be69-34c37c1475cf",
   "metadata": {},
   "outputs": [],
   "source": [
    "import math\n",
    "n = len(x)\n",
    "mean = sum(x) / n\n",
    "deviations = [(i - mean)**2 for i in x]\n",
    "std_deviation = math.sqrt(sum(deviations)/n)"
   ]
  },
  {
   "cell_type": "code",
   "execution_count": 42,
   "id": "9c8f2ccd-92dc-4478-9312-afde9571f915",
   "metadata": {},
   "outputs": [
    {
     "data": {
      "text/plain": [
       "19.18970812595084"
      ]
     },
     "execution_count": 42,
     "metadata": {},
     "output_type": "execute_result"
    }
   ],
   "source": [
    "std_deviation"
   ]
  },
  {
   "cell_type": "markdown",
   "id": "7612ed99-7362-43c6-932c-2e5d55650d73",
   "metadata": {},
   "source": [
    "# Skewness"
   ]
  },
  {
   "cell_type": "code",
   "execution_count": 46,
   "id": "306b22d2-e744-4ee8-adb5-cdc48f6466ae",
   "metadata": {},
   "outputs": [],
   "source": [
    "import numpy as np\n",
    "from statsmodels.stats.stattools import robust_skewness\n",
    "y = np.array([2,4,5,7,8,9,11,15])\n",
    "skewness = robust_skewness(y)"
   ]
  },
  {
   "cell_type": "code",
   "execution_count": 47,
   "id": "b767ad4c-2138-403a-b32b-59d0bf9f46d1",
   "metadata": {},
   "outputs": [
    {
     "data": {
      "text/plain": [
       "(0.4273008053396638, -0.15789473684210525, 0.04, 0.03229168418603133)"
      ]
     },
     "execution_count": 47,
     "metadata": {},
     "output_type": "execute_result"
    }
   ],
   "source": [
    "skewness"
   ]
  },
  {
   "cell_type": "markdown",
   "id": "d100c0b6-8c65-483e-a01b-6bff2bbf6e05",
   "metadata": {},
   "source": [
    "# Kurtosis"
   ]
  },
  {
   "cell_type": "code",
   "execution_count": 49,
   "id": "5befc09e-68ac-444f-afee-32952726b178",
   "metadata": {},
   "outputs": [],
   "source": [
    "import numpy as np\n",
    "from statsmodels.stats.stattools import robust_kurtosis\n",
    "y = np.array([2,4,5,7,8,9,11,15])\n",
    "kurtosis = robust_kurtosis(y)"
   ]
  },
  {
   "cell_type": "code",
   "execution_count": 50,
   "id": "dfedc79a-fb82-4d1f-81d5-5c2af835b575",
   "metadata": {},
   "outputs": [
    {
     "data": {
      "text/plain": [
       "(-0.5988228527065362,\n",
       " -0.04888458916942784,\n",
       " -0.5052271228708025,\n",
       " -0.39005747798595314)"
      ]
     },
     "execution_count": 50,
     "metadata": {},
     "output_type": "execute_result"
    }
   ],
   "source": [
    "kurtosis"
   ]
  },
  {
   "cell_type": "markdown",
   "id": "4102494c-2a29-4b3b-9032-ec27865632bc",
   "metadata": {},
   "source": [
    "# Covariance"
   ]
  },
  {
   "cell_type": "code",
   "execution_count": 54,
   "id": "e3ff637a-11ca-459b-8a45-843c706322e8",
   "metadata": {},
   "outputs": [
    {
     "data": {
      "text/plain": [
       "60.61904761904762"
      ]
     },
     "execution_count": 54,
     "metadata": {},
     "output_type": "execute_result"
    }
   ],
   "source": [
    "meanx = sum(x) / float(len(x))\n",
    "meany = sum(y) / float(len(y))\n",
    "xpart = [i - meanx for i in x]\n",
    "ypart = [i - meany for i in y]\n",
    "numerator = sum([xpart[i]*ypart[i] for i in range(len(xpart))])\n",
    "denominator = len(x) - 1\n",
    "covariancexy = numerator / denominator\n",
    "covariancexy"
   ]
  },
  {
   "cell_type": "markdown",
   "id": "3b1970c4-36d4-4637-8a10-473933370ffd",
   "metadata": {},
   "source": [
    "# Correlation"
   ]
  },
  {
   "cell_type": "code",
   "execution_count": 53,
   "id": "ff7d2f05-5fa5-422c-b42d-0e77a51220b5",
   "metadata": {},
   "outputs": [],
   "source": [
    "import math\n",
    "n = len(x)\n",
    "n = len(y)\n",
    "mean = sum(x) / n\n",
    "mean = sum(y) / n\n",
    "deviationsx = [(i - mean)**2 for i in x]\n",
    "deviationsy = [(i - mean)**2 for i in y]\n",
    "sdx = math.sqrt(sum(deviationsx)/n)\n",
    "sdy = math.sqrt(sum(deviationsy)/n)"
   ]
  },
  {
   "cell_type": "code",
   "execution_count": 57,
   "id": "7d03f6e9-813d-4782-a090-bb64db5148d5",
   "metadata": {},
   "outputs": [],
   "source": [
    "corrxy = covariancexy / (sdx * sdy)"
   ]
  },
  {
   "cell_type": "code",
   "execution_count": 58,
   "id": "e591ee07-12f9-43c5-ae7e-9623f09d1d6f",
   "metadata": {},
   "outputs": [
    {
     "data": {
      "text/plain": [
       "0.4390829466860825"
      ]
     },
     "execution_count": 58,
     "metadata": {},
     "output_type": "execute_result"
    }
   ],
   "source": [
    "corrxy"
   ]
  },
  {
   "cell_type": "code",
   "execution_count": 60,
   "id": "98bff57b-c37a-4ba9-af66-c21e67b5d073",
   "metadata": {},
   "outputs": [],
   "source": [
    "import random\n",
    "a = [random.gauss(50,20) for x in range(30)]\n",
    "b = [random.gauss(55,15) for x in range(30)]"
   ]
  },
  {
   "cell_type": "code",
   "execution_count": 63,
   "id": "b489c79e-c2eb-4466-aa2e-79baca5caca5",
   "metadata": {},
   "outputs": [
    {
     "data": {
      "text/plain": [
       "<Axes: ylabel='Density'>"
      ]
     },
     "execution_count": 63,
     "metadata": {},
     "output_type": "execute_result"
    },
    {
     "data": {
      "image/png": "[encoded data removed]",
      "text/plain": [
       "<Figure size 640x480 with 1 Axes>"
      ]
     },
     "metadata": {},
     "output_type": "display_data"
    }
   ],
   "source": [
    "import seaborn as sns\n",
    "sns.set_style('darkgrid')\n",
    "sns.kdeplot(a,fill=True)\n",
    "sns.kdeplot(b,fill=True)"
   ]
  },
  {
   "cell_type": "code",
   "execution_count": 66,
   "id": "77ea1b3d-73ed-49a0-b723-c158afd092df",
   "metadata": {},
   "outputs": [
    {
     "data": {
      "text/plain": [
       "(0.1044224456672442, 0.9171971090615354)"
      ]
     },
     "execution_count": 66,
     "metadata": {},
     "output_type": "execute_result"
    }
   ],
   "source": [
    "# Independent T test\n",
    "import scipy.stats as stats\n",
    "t_stat,p_value = stats.ttest_ind(a,b,equal_var = False)\n",
    "t_stat,p_value"
   ]
  },
  {
   "cell_type": "markdown",
   "id": "71e9916d-3f69-4154-a1cf-32032d2a35ed",
   "metadata": {},
   "source": [
    "## Therefore p value > 0.05 we accept the null hypothesis"
   ]
  },
  {
   "cell_type": "code",
   "execution_count": 67,
   "id": "ea05fa97-51e9-450f-8d90-82a1b7ca050a",
   "metadata": {},
   "outputs": [
    {
     "data": {
      "text/plain": [
       "(57.07829141044046, 56.60872433530955)"
      ]
     },
     "execution_count": 67,
     "metadata": {},
     "output_type": "execute_result"
    }
   ],
   "source": [
    "import numpy as np\n",
    "np.mean(a), np.mean(b)"
   ]
  },
  {
   "cell_type": "markdown",
   "id": "9a0cca07-120f-410d-8497-4c722ad1d270",
   "metadata": {},
   "source": [
    "## Now both means are almost same then we accept the null hypothesis"
   ]
  },
  {
   "cell_type": "code",
   "execution_count": 71,
   "id": "df468b34-e397-48bf-9f95-14206f8547b1",
   "metadata": {},
   "outputs": [],
   "source": [
    "import random\n",
    "a = [random.gauss(50,20) for x in range(30)]\n",
    "b = [random.gauss(60,25) for x in range(30)]"
   ]
  },
  {
   "cell_type": "code",
   "execution_count": 72,
   "id": "7b9f0238-312e-4a52-b3cd-030f66ccf7a7",
   "metadata": {},
   "outputs": [
    {
     "data": {
      "text/plain": [
       "(-2.9310405118525, 0.006526746131018056)"
      ]
     },
     "execution_count": 72,
     "metadata": {},
     "output_type": "execute_result"
    }
   ],
   "source": [
    "# Paired T test\n",
    "import scipy.stats as stats\n",
    "t_stat,p_value = stats.ttest_rel(a,b)\n",
    "t_stat,p_value"
   ]
  },
  {
   "cell_type": "markdown",
   "id": "69b2d6c9-8d02-4f9c-9d42-8a0df37b1cbd",
   "metadata": {},
   "source": [
    "# Therefore p value < 0.05 we reject the null hypothesis"
   ]
  },
  {
   "cell_type": "code",
   "execution_count": 76,
   "id": "582cd3be-540a-4f11-bf2c-cfaa829e4e18",
   "metadata": {},
   "outputs": [
    {
     "data": {
      "text/plain": [
       "-18.87514792029588"
      ]
     },
     "execution_count": 76,
     "metadata": {},
     "output_type": "execute_result"
    }
   ],
   "source": [
    "import numpy as np\n",
    "np.mean(a)-np.mean(b)"
   ]
  },
  {
   "cell_type": "markdown",
   "id": "3fb2bacb-ed85-44da-b8ec-864860179964",
   "metadata": {},
   "source": [
    "## since the difference of means are not equal to zero then we reject the null hypothesis"
   ]
  },
  {
   "cell_type": "code",
   "execution_count": 78,
   "id": "8386b4a5-cf10-429d-be54-ffceb1063700",
   "metadata": {},
   "outputs": [],
   "source": [
    "# One Sample T test\n",
    "t_stat,p_value = stats.ttest_1samp(a,40,axis=0)"
   ]
  },
  {
   "cell_type": "code",
   "execution_count": 79,
   "id": "4ed87497-65df-49f0-9cb5-6971743b79d8",
   "metadata": {},
   "outputs": [
    {
     "data": {
      "text/plain": [
       "(2.197374361587566, 0.03613237595635343)"
      ]
     },
     "execution_count": 79,
     "metadata": {},
     "output_type": "execute_result"
    }
   ],
   "source": [
    "t_stat,p_value"
   ]
  },
  {
   "cell_type": "markdown",
   "id": "57c4726c-5301-4aa2-b1b3-a263239b45a8",
   "metadata": {},
   "source": [
    "# Therefore p value < 0.05 we reject the null hypothesis"
   ]
  },
  {
   "cell_type": "code",
   "execution_count": 85,
   "id": "d4b37a81-d181-46d0-bfb0-7379d0c69aee",
   "metadata": {},
   "outputs": [],
   "source": [
    "# One sample Z Test\n",
    "import random\n",
    "random.seed(20)\n",
    "from statsmodels.stats.weightstats import ztest as ztest"
   ]
  },
  {
   "cell_type": "markdown",
   "id": "36e4309b-a1e4-4378-a8bf-ec14546e5b47",
   "metadata": {},
   "source": [
    "$ \\mu = 100 $ <br>\n",
    "$ \\sigma = 15 $"
   ]
  },
  {
   "cell_type": "code",
   "execution_count": 81,
   "id": "a82b8b8e-d6e4-44a1-b531-3bb497ffd37d",
   "metadata": {},
   "outputs": [],
   "source": [
    "a = [random.gauss(100,15) for x in range(40)]"
   ]
  },
  {
   "cell_type": "code",
   "execution_count": 82,
   "id": "d160b961-6313-4f7b-b2bf-7f2a444569f0",
   "metadata": {},
   "outputs": [
    {
     "data": {
      "text/plain": [
       "(1.3430675401429018, 0.17925010504664385)"
      ]
     },
     "execution_count": 82,
     "metadata": {},
     "output_type": "execute_result"
    }
   ],
   "source": [
    "ztest(a,value = 100)"
   ]
  },
  {
   "cell_type": "markdown",
   "id": "b64195e5-b093-4131-90ba-c7100af54dca",
   "metadata": {},
   "source": [
    "# Therefore p value > 0.05 we accept the null hypothesis"
   ]
  },
  {
   "cell_type": "code",
   "execution_count": 83,
   "id": "050a6921-06a3-4348-b91e-622ad6ff003c",
   "metadata": {},
   "outputs": [],
   "source": [
    "a = [random.gauss(120,15) for x in range(40)]"
   ]
  },
  {
   "cell_type": "code",
   "execution_count": 84,
   "id": "7c86714d-6aa1-4b50-a4a3-e96bfaaa8fe4",
   "metadata": {},
   "outputs": [
    {
     "data": {
      "text/plain": [
       "(7.8519708903183885, 2.047747825025016e-15)"
      ]
     },
     "execution_count": 84,
     "metadata": {},
     "output_type": "execute_result"
    }
   ],
   "source": [
    "ztest(a,value = 100,alternative = 'larger')"
   ]
  },
  {
   "cell_type": "markdown",
   "id": "15fd5346-bf0f-49e8-8dc5-cd01148f6d09",
   "metadata": {},
   "source": [
    "# Therefore p value < 0.05 we reject the null hypothesis"
   ]
  },
  {
   "cell_type": "code",
   "execution_count": 86,
   "id": "5aa3f99a-3e96-4ba3-8e42-1c76b4e86d63",
   "metadata": {},
   "outputs": [],
   "source": [
    "a = [random.gauss(80,15) for x in range(40)]"
   ]
  },
  {
   "cell_type": "code",
   "execution_count": 87,
   "id": "0722b3f4-b551-47ad-a57b-8ea7886ce92e",
   "metadata": {},
   "outputs": [
    {
     "data": {
      "text/plain": [
       "(-7.131297100173483, 4.97137203332216e-13)"
      ]
     },
     "execution_count": 87,
     "metadata": {},
     "output_type": "execute_result"
    }
   ],
   "source": [
    "ztest(a,value = 100,alternative = 'smaller')"
   ]
  },
  {
   "cell_type": "markdown",
   "id": "57d45980-9f1f-44a9-85a0-a75b6517bf76",
   "metadata": {},
   "source": [
    "# Therefore p value < 0.05 we reject the null hypothesis"
   ]
  },
  {
   "cell_type": "code",
   "execution_count": 88,
   "id": "faed0eff-2996-408d-a723-e6980e9128bf",
   "metadata": {},
   "outputs": [],
   "source": [
    "# Two sample Z test\n",
    "a = [random.gauss(100,15) for x in range(40)]\n",
    "b = [random.gauss(120,15) for x in range(40)]"
   ]
  },
  {
   "cell_type": "code",
   "execution_count": 89,
   "id": "84cae442-9454-48da-ac7d-e0e2d2ae6196",
   "metadata": {},
   "outputs": [
    {
     "data": {
      "text/plain": [
       "(-7.312860385942583, 2.6151469868165035e-13)"
      ]
     },
     "execution_count": 89,
     "metadata": {},
     "output_type": "execute_result"
    }
   ],
   "source": [
    "ztest(a,b,value=0)   # consider difference between mean is zero means both means are equal (value=0)"
   ]
  },
  {
   "cell_type": "markdown",
   "id": "9d666ee6-b226-43ad-a404-e38b4bed3995",
   "metadata": {},
   "source": [
    "# Therefore p value < 0.05 we reject the null hypothesis"
   ]
  },
  {
   "cell_type": "code",
   "execution_count": 90,
   "id": "cd641446-2909-41ec-8452-b1825c9a6c8c",
   "metadata": {},
   "outputs": [],
   "source": [
    "a = [random.gauss(100,15) for x in range(40)]\n",
    "b = [random.gauss(100,15) for x in range(40)]"
   ]
  },
  {
   "cell_type": "code",
   "execution_count": 91,
   "id": "9f249e95-4fb2-4dae-9eda-3c1f47ed0fff",
   "metadata": {},
   "outputs": [
    {
     "data": {
      "text/plain": [
       "(-0.5290774413703597, 0.5967517296989135)"
      ]
     },
     "execution_count": 91,
     "metadata": {},
     "output_type": "execute_result"
    }
   ],
   "source": [
    "ztest(a,b,value=0)"
   ]
  },
  {
   "cell_type": "markdown",
   "id": "8696ac2e-32f6-4ce5-bfd1-aac813b25542",
   "metadata": {},
   "source": [
    "# Therefore p value > 0.05 we accept the null hypothesis"
   ]
  },
  {
   "cell_type": "code",
   "execution_count": 99,
   "id": "c6f01a45-bc4d-4dbd-8ce7-aa8ece818b8e",
   "metadata": {},
   "outputs": [
    {
     "data": {
      "text/plain": [
       "<Axes: ylabel='Density'>"
      ]
     },
     "execution_count": 99,
     "metadata": {},
     "output_type": "execute_result"
    },
    {
     "data": {
      "image/png": "[encoded data removed]",
      "text/plain": [
       "<Figure size 640x480 with 1 Axes>"
      ]
     },
     "metadata": {},
     "output_type": "display_data"
    }
   ],
   "source": [
    "import seaborn as sns\n",
    "a = [random.gauss(0,1) for x in range(30)]\n",
    "b = []\n",
    "for i in a:\n",
    "    b.append(i**2)\n",
    "b\n",
    "sns.set_style('darkgrid')\n",
    "sns.kdeplot(a,fill=True)\n",
    "sns.kdeplot(b,fill=True)"
   ]
  },
  {
   "cell_type": "code",
   "execution_count": 100,
   "id": "7511f4e3-6db0-448a-9386-72516467359c",
   "metadata": {},
   "outputs": [],
   "source": [
    "data1 = np.random.chisquare(df=1,size=1000)\n",
    "data2 = np.random.chisquare(df=2,size=1000)\n",
    "data3 = np.random.chisquare(df=3,size=1000)"
   ]
  },
  {
   "cell_type": "code",
   "execution_count": 102,
   "id": "ce166765-c5b5-49dd-aa89-dd36abe8031a",
   "metadata": {},
   "outputs": [
    {
     "name": "stderr",
     "output_type": "stream",
     "text": [
      "C:\\Users\\Abu Osama\\AppData\\Local\\Temp\\ipykernel_15868\\2608254961.py:3: UserWarning: \n",
      "\n",
      "`distplot` is a deprecated function and will be removed in seaborn v0.14.0.\n",
      "\n",
      "Please adapt your code to use either `displot` (a figure-level function with\n",
      "similar flexibility) or `kdeplot` (an axes-level function for kernel density plots).\n",
      "\n",
      "For a guide to updating your code to use the new functions, please see\n",
      "https://gist.github.com/mwaskom/de44147ed2974457ad6372750bbe5751\n",
      "\n",
      "  sns.distplot(data1,hist=False,label='dof 1')\n",
      "C:\\Users\\Abu Osama\\AppData\\Local\\Temp\\ipykernel_15868\\2608254961.py:4: UserWarning: \n",
      "\n",
      "`distplot` is a deprecated function and will be removed in seaborn v0.14.0.\n",
      "\n",
      "Please adapt your code to use either `displot` (a figure-level function with\n",
      "similar flexibility) or `kdeplot` (an axes-level function for kernel density plots).\n",
      "\n",
      "For a guide to updating your code to use the new functions, please see\n",
      "https://gist.github.com/mwaskom/de44147ed2974457ad6372750bbe5751\n",
      "\n",
      "  sns.distplot(data2,hist=False,label='dof 2')\n",
      "C:\\Users\\Abu Osama\\AppData\\Local\\Temp\\ipykernel_15868\\2608254961.py:5: UserWarning: \n",
      "\n",
      "`distplot` is a deprecated function and will be removed in seaborn v0.14.0.\n",
      "\n",
      "Please adapt your code to use either `displot` (a figure-level function with\n",
      "similar flexibility) or `kdeplot` (an axes-level function for kernel density plots).\n",
      "\n",
      "For a guide to updating your code to use the new functions, please see\n",
      "https://gist.github.com/mwaskom/de44147ed2974457ad6372750bbe5751\n",
      "\n",
      "  sns.distplot(data3,hist=False,label='dof 3')\n"
     ]
    },
    {
     "data": {
      "text/plain": [
       "<matplotlib.legend.Legend at 0x14bae327dd0>"
      ]
     },
     "execution_count": 102,
     "metadata": {},
     "output_type": "execute_result"
    },
    {
     "data": {
      "image/png": "[encoded data removed]",
      "text/plain": [
       "<Figure size 640x480 with 1 Axes>"
      ]
     },
     "metadata": {},
     "output_type": "display_data"
    }
   ],
   "source": [
    "import matplotlib.pyplot as plt\n",
    "import seaborn as sns\n",
    "sns.distplot(data1,hist=False,label='dof 1')\n",
    "sns.distplot(data2,hist=False,label='dof 2')\n",
    "sns.distplot(data3,hist=False,label='dof 3')\n",
    "plt.legend()"
   ]
  },
  {
   "cell_type": "markdown",
   "id": "f8e56ea8-d170-4db1-b987-be9c8e093564",
   "metadata": {},
   "source": [
    "### we can notice that as a degrees of freedom increases the chi square ditribution almost tends to become normal distribution"
   ]
  },
  {
   "cell_type": "code",
   "execution_count": 103,
   "id": "6d7305cf-6233-4c48-9ee0-0d6d9d8f06f1",
   "metadata": {},
   "outputs": [],
   "source": [
    "# Chi square test\n",
    "from scipy.stats import chi2_contingency\n",
    "data = [[10,20,30],[6,9,17]]\n",
    "stat,p_value,dof,chi_array = chi2_contingency(data)"
   ]
  },
  {
   "cell_type": "code",
   "execution_count": 104,
   "id": "321d4015-3663-4a66-8d36-5bbe1361984e",
   "metadata": {},
   "outputs": [
    {
     "data": {
      "text/plain": [
       "0.873028283380073"
      ]
     },
     "execution_count": 104,
     "metadata": {},
     "output_type": "execute_result"
    }
   ],
   "source": [
    "p_value"
   ]
  },
  {
   "cell_type": "markdown",
   "id": "addbf54d-c479-43b1-97c4-868bbdd1e8d5",
   "metadata": {},
   "source": [
    "### Therefore p value is greater than 0.05 that is we reject null hypothesis."
   ]
  },
  {
   "cell_type": "markdown",
   "id": "f0cdeb77-5b02-401a-8d57-2086eb5d9574",
   "metadata": {},
   "source": [
    "# F Distribution"
   ]
  },
  {
   "cell_type": "code",
   "execution_count": 107,
   "id": "ca0161cd-18f4-4117-bea4-8895dec1b393",
   "metadata": {},
   "outputs": [
    {
     "data": {
      "text/plain": [
       "<matplotlib.legend.Legend at 0x14bae136990>"
      ]
     },
     "execution_count": 107,
     "metadata": {},
     "output_type": "execute_result"
    },
    {
     "data": {
      "image/png": "[encoded data removed]",
      "text/plain": [
       "<Figure size 1800x900 with 1 Axes>"
      ]
     },
     "metadata": {},
     "output_type": "display_data"
    }
   ],
   "source": [
    "import matplotlib.pyplot as plt\n",
    "import numpy as np\n",
    "from scipy.stats import f\n",
    "x = np.linspace(0,4.5,1000)\n",
    "data1 = f(1,1,0)\n",
    "data2 = f(5,8,0)\n",
    "data3 = f(4,4,0)\n",
    "data4 = f(100,200,0)\n",
    "plt.figure(figsize=(12,6),dpi=150)\n",
    "plt.plot(x,data1.pdf(x),label='1,1')\n",
    "plt.plot(x,data2.pdf(x),label='5,8')\n",
    "plt.plot(x,data3.pdf(x),label='4,4')\n",
    "plt.plot(x,data4.pdf(x),label='100,200')\n",
    "plt.legend()"
   ]
  },
  {
   "cell_type": "markdown",
   "id": "4ffcc353-e94a-45dd-8ff2-5d31ea517711",
   "metadata": {},
   "source": [
    "### As degrees of freedom increases the F distribution becomes normal distribution."
   ]
  },
  {
   "cell_type": "markdown",
   "id": "9f9fe84f-53dc-49b1-b203-13ae8ab88358",
   "metadata": {},
   "source": [
    "# F Test\n",
    "Null Hypothesis = Variance are equal\n",
    "Alternative Hypothesis = Variance are not equal"
   ]
  },
  {
   "cell_type": "code",
   "execution_count": 109,
   "id": "4f4a3b44-a300-4c0e-8e48-9a632bcdf18b",
   "metadata": {},
   "outputs": [],
   "source": [
    "import random\n",
    "random.seed(20)\n",
    "x = np.array([random.gauss(100,15) for x in range(20)])\n",
    "y = np.array([random.gauss(100,15) for x in range(20)])"
   ]
  },
  {
   "cell_type": "code",
   "execution_count": 110,
   "id": "de6dbd0b-a17e-44a2-8fdb-642c49229a48",
   "metadata": {},
   "outputs": [],
   "source": [
    "f_test_stat = np.var(x,ddof=1) / np.var(y,ddof=1)"
   ]
  },
  {
   "cell_type": "code",
   "execution_count": 111,
   "id": "71090734-b5db-4a5d-9864-ff848319a167",
   "metadata": {},
   "outputs": [
    {
     "data": {
      "text/plain": [
       "0.027388728443720423"
      ]
     },
     "execution_count": 111,
     "metadata": {},
     "output_type": "execute_result"
    }
   ],
   "source": [
    "dfn = x.size -1  # dof for numerator\n",
    "dfd = y.size -1  # dof for denominator\n",
    "p_value = 1 - f.cdf(f_test_stat,dfn,dfd)\n",
    "p_value"
   ]
  },
  {
   "cell_type": "markdown",
   "id": "e865b0b5-91ea-4f26-b15b-7a740db21aae",
   "metadata": {},
   "source": [
    "### Therefore p value is less than 0.05 that is our null hypothesis is true that means there is relationship between the variables or variance are equal."
   ]
  },
  {
   "cell_type": "code",
   "execution_count": 113,
   "id": "015b4130-9597-44ba-b136-9911fbbf0010",
   "metadata": {},
   "outputs": [
    {
     "data": {
      "text/plain": [
       "0.6890214865041783"
      ]
     },
     "execution_count": 113,
     "metadata": {},
     "output_type": "execute_result"
    }
   ],
   "source": [
    "x = np.array([random.gauss(100,15) for x in range(20)])\n",
    "y = np.array([random.gauss(200,15) for x in range(20)])\n",
    "f_test_stat = np.var(x,ddof=1) / np.var(y,ddof=1)\n",
    "dfn = x.size -1  # dof for numerator\n",
    "dfd = y.size -1  # dof for denominator\n",
    "p_value = 1 - f.cdf(f_test_stat,dfn,dfd)\n",
    "p_value"
   ]
  },
  {
   "cell_type": "markdown",
   "id": "9784c453-e417-45e8-8c6f-3d294af18729",
   "metadata": {},
   "source": [
    "### Therefore p value is greater than 0.05 that is we reject null hypothesis that means variance are not equal."
   ]
  },
  {
   "cell_type": "code",
   "execution_count": null,
   "id": "8333edf2-1c76-4709-ac3c-9275e7095510",
   "metadata": {},
   "outputs": [],
   "source": []
  }
 ],
 "metadata": {
  "kernelspec": {
   "display_name": "My Environment",
   "language": "python",
   "name": "myenv"
  },
  "language_info": {
   "codemirror_mode": {
    "name": "ipython",
    "version": 3
   },
   "file_extension": ".py",
   "mimetype": "text/x-python",
   "name": "python",
   "nbconvert_exporter": "python",
   "pygments_lexer": "ipython3",
   "version": "3.11.5"
  }
 },
 "nbformat": 4,
 "nbformat_minor": 5
}
